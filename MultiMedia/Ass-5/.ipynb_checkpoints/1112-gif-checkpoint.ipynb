{
 "cells": [
  {
   "cell_type": "code",
   "execution_count": 1,
   "id": "9a8388ff",
   "metadata": {},
   "outputs": [],
   "source": [
    "from PIL import Image, ImageDraw, ImageFont"
   ]
  },
  {
   "cell_type": "markdown",
   "id": "f9613775",
   "metadata": {},
   "source": [
    "### resize images"
   ]
  },
  {
   "cell_type": "code",
   "execution_count": 27,
   "id": "d13816d6",
   "metadata": {},
   "outputs": [],
   "source": [
    "def resize_image(image_path, size=(50, 50)):\n",
    "    with Image.open(image_path) as img:\n",
    "        # Resize the image while maintaining its aspect ratio if needed\n",
    "        resized_img = img.resize(size, Image.ANTIALIAS)\n",
    "    return resized_img"
   ]
  },
  {
   "cell_type": "markdown",
   "id": "8c6fa4a3",
   "metadata": {},
   "source": [
    "### Create function"
   ]
  },
  {
   "cell_type": "code",
   "execution_count": 28,
   "id": "56a4dd06",
   "metadata": {},
   "outputs": [],
   "source": [
    "def create_gif(image_files, output_file=\"name_animation.gif\", duration=500, loop=0, resize_to=(400, 400)):\n",
    "    frames = []\n",
    "\n",
    "    # Resize images and add them to the frames list\n",
    "    for img_file in image_files:\n",
    "        resized_img = resize_image(img_file, size=resize_to)\n",
    "        frames.append(resized_img)\n",
    "        \n",
    "    # At the end My full name\n",
    "    full_name = \"DIPAN\"\n",
    "    final_frame = Image.new(\"RGB\", resize_to, \"white\")\n",
    "    draw = ImageDraw.Draw(final_frame)\n",
    "    \n",
    "    try:\n",
    "        # Load a font (ensure you have a .ttf font file like Arial.ttf in the same directory)\n",
    "        font = ImageFont.truetype(\"arial.ttf\", 50)\n",
    "    except IOError:\n",
    "        # Fallback to default font\n",
    "        font = ImageFont.load_default()\n",
    "\n",
    "    # Center the text on the image\n",
    "    text_width, text_height = draw.textsize(full_name, font=font)\n",
    "    text_position = ((resize_to[0] - text_width) // 2, (resize_to[1] - text_height) // 2)\n",
    "    draw.text(text_position, full_name, fill=\"black\", font=font)\n",
    "\n",
    "    # Add the final frame to the list\n",
    "    frames.append(final_frame)\n",
    "    \n",
    "    # Save the frames as an animated GIF\n",
    "    frames[0].save(\n",
    "        output_file,\n",
    "        save_all=True,\n",
    "        append_images=frames[1:],\n",
    "        duration=duration,  # Duration of each frame in milliseconds\n",
    "        loop=loop  # Infinite loop if loop=0\n",
    "    )\n",
    "    print(f\"GIF saved as {output_file}\")"
   ]
  },
  {
   "cell_type": "markdown",
   "id": "e7b74fdc",
   "metadata": {},
   "source": [
    "### image list"
   ]
  },
  {
   "cell_type": "code",
   "execution_count": 29,
   "id": "4565d6de",
   "metadata": {},
   "outputs": [],
   "source": [
    "image_files = [\"D.png\", \"I.png\", \"P.png\", \"A.png\", \"N.png\"]"
   ]
  },
  {
   "cell_type": "markdown",
   "id": "316916cf",
   "metadata": {},
   "source": [
    "### Creating the gif"
   ]
  },
  {
   "cell_type": "code",
   "execution_count": 30,
   "id": "b1ff4cef",
   "metadata": {},
   "outputs": [],
   "source": [
    "\n",
    "output_file = \"Dipan_Mondal.gif\""
   ]
  },
  {
   "cell_type": "code",
   "execution_count": 31,
   "id": "eaf08284",
   "metadata": {},
   "outputs": [
    {
     "name": "stdout",
     "output_type": "stream",
     "text": [
      "GIF saved as Dipan_Mondal.gif\n"
     ]
    },
    {
     "name": "stderr",
     "output_type": "stream",
     "text": [
      "C:\\Users\\idipa\\AppData\\Local\\Temp\\ipykernel_14260\\691399569.py:4: DeprecationWarning: ANTIALIAS is deprecated and will be removed in Pillow 10 (2023-07-01). Use Resampling.LANCZOS instead.\n",
      "  resized_img = img.resize(size, Image.ANTIALIAS)\n",
      "C:\\Users\\idipa\\AppData\\Local\\Temp\\ipykernel_14260\\764112402.py:22: DeprecationWarning: textsize is deprecated and will be removed in Pillow 10 (2023-07-01). Use textbbox or textlength instead.\n",
      "  text_width, text_height = draw.textsize(full_name, font=font)\n"
     ]
    }
   ],
   "source": [
    "create_gif(image_files=image_files,output_file=output_file)"
   ]
  },
  {
   "cell_type": "code",
   "execution_count": null,
   "id": "029af8f2",
   "metadata": {},
   "outputs": [],
   "source": []
  }
 ],
 "metadata": {
  "kernelspec": {
   "display_name": "Python 3 (ipykernel)",
   "language": "python",
   "name": "python3"
  },
  "language_info": {
   "codemirror_mode": {
    "name": "ipython",
    "version": 3
   },
   "file_extension": ".py",
   "mimetype": "text/x-python",
   "name": "python",
   "nbconvert_exporter": "python",
   "pygments_lexer": "ipython3",
   "version": "3.10.7"
  }
 },
 "nbformat": 4,
 "nbformat_minor": 5
}
