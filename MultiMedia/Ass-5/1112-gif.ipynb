{
 "cells": [
  {
   "cell_type": "code",
   "execution_count": 42,
   "id": "5ead05d2",
   "metadata": {},
   "outputs": [],
   "source": [
    "from PIL import Image\n",
    "import imageio.v2 as imageio \n",
    "import numpy as np"
   ]
  },
  {
   "cell_type": "code",
   "execution_count": 43,
   "id": "2c824adb",
   "metadata": {},
   "outputs": [],
   "source": [
    "images = []\n",
    "letter_images = [ 'D.png', 'I.png', 'P.png', 'A.png', 'N.png']"
   ]
  },
  {
   "cell_type": "code",
   "execution_count": 44,
   "id": "77fea8a6",
   "metadata": {},
   "outputs": [],
   "source": [
    "fixed_width, fixed_height = 100, 100\n",
    "canvas_width = fixed_width * len(letter_images)"
   ]
  },
  {
   "cell_type": "code",
   "execution_count": 45,
   "id": "104e0941",
   "metadata": {},
   "outputs": [],
   "source": [
    "# Create progressive combinations of letters\n",
    "for i in range(1, len(letter_images) + 1):\n",
    "    # Create a canvas with a fixed size for all frames\n",
    "    combined_image = Image.new(\"RGBA\", (canvas_width, fixed_height))\n",
    "    x_offset = 0\n",
    "\n",
    "    for j in range(i):\n",
    "        img = Image.open(letter_images[j]).resize((fixed_width, fixed_height))  # Resize to fixed dimensions\n",
    "        combined_image.paste(img, (x_offset, 0))\n",
    "        x_offset += fixed_width\n",
    "\n",
    "    # Save the frame\n",
    "    frame_name = f\"frame_{i}.png\"\n",
    "    combined_image.save(frame_name)\n",
    "    images.append(imageio.imread(frame_name))"
   ]
  },
  {
   "cell_type": "code",
   "execution_count": 49,
   "id": "398bb36c",
   "metadata": {},
   "outputs": [],
   "source": [
    "output_gif = '1112_A3_Ass5_Dipan_Mondal.gif'\n",
    "imageio.mimsave(output_gif, images, duration=500,loop=0)"
   ]
  },
  {
   "cell_type": "code",
   "execution_count": null,
   "id": "65beafed",
   "metadata": {},
   "outputs": [],
   "source": []
  }
 ],
 "metadata": {
  "kernelspec": {
   "display_name": "Python 3 (ipykernel)",
   "language": "python",
   "name": "python3"
  },
  "language_info": {
   "codemirror_mode": {
    "name": "ipython",
    "version": 3
   },
   "file_extension": ".py",
   "mimetype": "text/x-python",
   "name": "python",
   "nbconvert_exporter": "python",
   "pygments_lexer": "ipython3",
   "version": "3.10.7"
  }
 },
 "nbformat": 4,
 "nbformat_minor": 5
}
