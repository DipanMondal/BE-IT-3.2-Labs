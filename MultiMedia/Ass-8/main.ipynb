{
 "cells": [
  {
   "cell_type": "code",
   "execution_count": 9,
   "id": "2e67dccf",
   "metadata": {},
   "outputs": [],
   "source": [
    "import numpy as np\n",
    "import cv2\n",
    "import pandas as pd\n",
    "import time\n",
    "import pickle"
   ]
  },
  {
   "cell_type": "code",
   "execution_count": 10,
   "id": "623b879f",
   "metadata": {},
   "outputs": [],
   "source": [
    "def save_encoded(filename, encoded_data):\n",
    "    \"\"\"Save encoded data using pickle.\"\"\"\n",
    "    with open(filename, \"wb\") as file:\n",
    "        pickle.dump(encoded_data, file)"
   ]
  },
  {
   "cell_type": "markdown",
   "id": "9ffa4046",
   "metadata": {},
   "source": [
    "### PAPER-1"
   ]
  },
  {
   "cell_type": "code",
   "execution_count": 11,
   "id": "61509477",
   "metadata": {},
   "outputs": [],
   "source": [
    "def rle_encode(data):\n",
    "    encoded = []\n",
    "    count = 1\n",
    "    k = 0\n",
    "    for i in range(1, len(data)):\n",
    "        if data[i] == data[i - 1]:\n",
    "            count += 1\n",
    "        else:\n",
    "            encoded.append((data[i - 1], count))\n",
    "            count = 1\n",
    "    encoded.append((data[-1], count))  # Add the last sequence\n",
    "    return encoded"
   ]
  },
  {
   "cell_type": "code",
   "execution_count": 26,
   "id": "475dca6f",
   "metadata": {},
   "outputs": [],
   "source": [
    "def image_to_rle(image_path, mode='grayscale'):\n",
    "    start_time = time.time()\n",
    "    \n",
    "    if mode == 'bw':\n",
    "        image = cv2.imread(image_path, cv2.IMREAD_GRAYSCALE)  # Convert to B/W\n",
    "        image = np.where(image > 127, 255, 0).astype(np.uint8) \n",
    "    elif mode == 'grayscale':\n",
    "        image = cv2.imread(image_path, cv2.IMREAD_GRAYSCALE)\n",
    "    elif mode == 'rgb':\n",
    "        image = cv2.imread(image_path, cv2.IMREAD_COLOR)\n",
    "    else:\n",
    "        raise ValueError(\"Invalid mode. Choose from 'bw', 'grayscale', 'rgb'\")\n",
    "    \n",
    "    original_size = image.size  # Total pixels\n",
    "    if mode == 'rgb':\n",
    "        flattened = image.reshape(-1, 3)  # Flatten RGB\n",
    "        encoded = [rle_encode(flattened[:, i]) for i in range(3)]  # RLE per channel\n",
    "    else:\n",
    "        flattened = image.flatten()\n",
    "        encoded = rle_encode(flattened)\n",
    "    \n",
    "    save_encoded(image_path+\"_paper1_encoded.pkl\",encoded)\n",
    "    \n",
    "    compressed_size = sum(len(enc) for enc in encoded) * 2  # Each (value, count) pair is stored\n",
    "    \n",
    "    compression_ratio = (compressed_size / original_size) * 100\n",
    "    space_saving = 100 - compression_ratio\n",
    "    compression_time = (time.time() - start_time) * 1000  # Convert to milliseconds\n",
    "    \n",
    "    return original_size, compressed_size, compression_ratio, space_saving, compression_time"
   ]
  },
  {
   "cell_type": "code",
   "execution_count": 17,
   "id": "e59bb77f",
   "metadata": {},
   "outputs": [],
   "source": [
    "def evaluate_images(image_paths, modes=['bw', 'grayscale', 'rgb']):\n",
    "    results = []\n",
    "    for i in range(len(image_paths)):\n",
    "        image_path=image_paths[i]\n",
    "        mode=modes[i//2]\n",
    "        orig_size, comp_size, comp_ratio, space_save, comp_time = image_to_rle(image_path, mode)\n",
    "        results.append([image_path, mode, orig_size, comp_size, comp_ratio, space_save, comp_time])\n",
    "    \n",
    "    df = pd.DataFrame(results, columns=['Image', 'Mode', 'Original Size', 'Compressed Size', 'Compression Ratio (%)', 'Space Saving (%)', 'Compression Time (ms)'])\n",
    "    return df"
   ]
  },
  {
   "cell_type": "code",
   "execution_count": 18,
   "id": "a400db25",
   "metadata": {},
   "outputs": [],
   "source": [
    "image_paths = ['./data/b&w1_mod.png',\n",
    "              './data/b&w2_mod.png',\n",
    "              './data/gray1_mod.png',\n",
    "              './data/gray2_mod.png',\n",
    "              './data/rgb1_mod.png',\n",
    "              './data/rgb2_mod.png']"
   ]
  },
  {
   "cell_type": "code",
   "execution_count": 27,
   "id": "279b9c1c",
   "metadata": {},
   "outputs": [],
   "source": [
    "df1=evaluate_images(image_paths)"
   ]
  },
  {
   "cell_type": "code",
   "execution_count": 28,
   "id": "619cf152",
   "metadata": {},
   "outputs": [
    {
     "data": {
      "text/html": [
       "<div>\n",
       "<style scoped>\n",
       "    .dataframe tbody tr th:only-of-type {\n",
       "        vertical-align: middle;\n",
       "    }\n",
       "\n",
       "    .dataframe tbody tr th {\n",
       "        vertical-align: top;\n",
       "    }\n",
       "\n",
       "    .dataframe thead th {\n",
       "        text-align: right;\n",
       "    }\n",
       "</style>\n",
       "<table border=\"1\" class=\"dataframe\">\n",
       "  <thead>\n",
       "    <tr style=\"text-align: right;\">\n",
       "      <th></th>\n",
       "      <th>Image</th>\n",
       "      <th>Mode</th>\n",
       "      <th>Original Size</th>\n",
       "      <th>Compressed Size</th>\n",
       "      <th>Compression Ratio (%)</th>\n",
       "      <th>Space Saving (%)</th>\n",
       "      <th>Compression Time (ms)</th>\n",
       "    </tr>\n",
       "  </thead>\n",
       "  <tbody>\n",
       "    <tr>\n",
       "      <th>0</th>\n",
       "      <td>./data/b&amp;w1_mod.png</td>\n",
       "      <td>bw</td>\n",
       "      <td>2500</td>\n",
       "      <td>1068</td>\n",
       "      <td>42.720000</td>\n",
       "      <td>57.280000</td>\n",
       "      <td>4.010677</td>\n",
       "    </tr>\n",
       "    <tr>\n",
       "      <th>1</th>\n",
       "      <td>./data/b&amp;w2_mod.png</td>\n",
       "      <td>bw</td>\n",
       "      <td>10000</td>\n",
       "      <td>2360</td>\n",
       "      <td>23.600000</td>\n",
       "      <td>76.400000</td>\n",
       "      <td>8.995056</td>\n",
       "    </tr>\n",
       "    <tr>\n",
       "      <th>2</th>\n",
       "      <td>./data/gray1_mod.png</td>\n",
       "      <td>grayscale</td>\n",
       "      <td>40000</td>\n",
       "      <td>134172</td>\n",
       "      <td>335.430000</td>\n",
       "      <td>-235.430000</td>\n",
       "      <td>128.991842</td>\n",
       "    </tr>\n",
       "    <tr>\n",
       "      <th>3</th>\n",
       "      <td>./data/gray2_mod.png</td>\n",
       "      <td>grayscale</td>\n",
       "      <td>90000</td>\n",
       "      <td>183616</td>\n",
       "      <td>204.017778</td>\n",
       "      <td>-104.017778</td>\n",
       "      <td>158.991098</td>\n",
       "    </tr>\n",
       "    <tr>\n",
       "      <th>4</th>\n",
       "      <td>./data/rgb1_mod.png</td>\n",
       "      <td>rgb</td>\n",
       "      <td>480000</td>\n",
       "      <td>728096</td>\n",
       "      <td>151.686667</td>\n",
       "      <td>-51.686667</td>\n",
       "      <td>1289.000273</td>\n",
       "    </tr>\n",
       "    <tr>\n",
       "      <th>5</th>\n",
       "      <td>./data/rgb2_mod.png</td>\n",
       "      <td>rgb</td>\n",
       "      <td>750000</td>\n",
       "      <td>1270360</td>\n",
       "      <td>169.381333</td>\n",
       "      <td>-69.381333</td>\n",
       "      <td>2773.992538</td>\n",
       "    </tr>\n",
       "  </tbody>\n",
       "</table>\n",
       "</div>"
      ],
      "text/plain": [
       "                  Image       Mode  Original Size  Compressed Size   \n",
       "0   ./data/b&w1_mod.png         bw           2500             1068  \\\n",
       "1   ./data/b&w2_mod.png         bw          10000             2360   \n",
       "2  ./data/gray1_mod.png  grayscale          40000           134172   \n",
       "3  ./data/gray2_mod.png  grayscale          90000           183616   \n",
       "4   ./data/rgb1_mod.png        rgb         480000           728096   \n",
       "5   ./data/rgb2_mod.png        rgb         750000          1270360   \n",
       "\n",
       "   Compression Ratio (%)  Space Saving (%)  Compression Time (ms)  \n",
       "0              42.720000         57.280000               4.010677  \n",
       "1              23.600000         76.400000               8.995056  \n",
       "2             335.430000       -235.430000             128.991842  \n",
       "3             204.017778       -104.017778             158.991098  \n",
       "4             151.686667        -51.686667            1289.000273  \n",
       "5             169.381333        -69.381333            2773.992538  "
      ]
     },
     "execution_count": 28,
     "metadata": {},
     "output_type": "execute_result"
    }
   ],
   "source": [
    "df1"
   ]
  },
  {
   "cell_type": "code",
   "execution_count": null,
   "id": "3c4cae4d",
   "metadata": {},
   "outputs": [],
   "source": [
    "df1.to_csv(\"\")"
   ]
  },
  {
   "cell_type": "markdown",
   "id": "2a98a412",
   "metadata": {},
   "source": [
    "### PAPER-2"
   ]
  },
  {
   "cell_type": "code",
   "execution_count": 21,
   "id": "78c3aea4",
   "metadata": {},
   "outputs": [],
   "source": [
    "import multiprocessing"
   ]
  },
  {
   "cell_type": "code",
   "execution_count": 22,
   "id": "df835e47",
   "metadata": {},
   "outputs": [],
   "source": [
    "def bitwise_rle_encode(data):\n",
    "    encoded = []\n",
    "    count = 1\n",
    "    prev = data[0]\n",
    "    for i in range(1, len(data)):\n",
    "        if data[i] == prev:\n",
    "            count += 1\n",
    "        else:\n",
    "            encoded.append((prev, count))\n",
    "            prev = data[i]\n",
    "            count = 1\n",
    "    encoded.append((prev, count))  # Add last sequence\n",
    "    return encoded"
   ]
  },
  {
   "cell_type": "code",
   "execution_count": 25,
   "id": "b1dbb53b",
   "metadata": {},
   "outputs": [],
   "source": [
    "def image_to_bitwise_rle(image_path, mode='grayscale'):\n",
    "    start_time = time.time()\n",
    "    \n",
    "    if mode == 'bw':\n",
    "        image = cv2.imread(image_path, cv2.IMREAD_GRAYSCALE)\n",
    "        image = np.where(image > 127, 255, 0).astype(np.uint8)  # Convert to B/W\n",
    "    elif mode == 'grayscale':\n",
    "        image = cv2.imread(image_path, cv2.IMREAD_GRAYSCALE)\n",
    "    elif mode == 'rgb':\n",
    "        image = cv2.imread(image_path, cv2.IMREAD_COLOR)\n",
    "    else:\n",
    "        raise ValueError(\"Invalid mode. Choose from 'bw', 'grayscale', 'rgb'\")\n",
    "    \n",
    "    original_size = image.size  # Total pixels\n",
    "    if mode == 'rgb':\n",
    "        flattened = image.reshape(-1, 3)  # Flatten RGB\n",
    "        with multiprocessing.Pool(3) as pool:\n",
    "            encoded = pool.map(bitwise_rle_encode, [flattened[:, i] for i in range(3)])\n",
    "    else:\n",
    "        flattened = image.flatten()\n",
    "        encoded = bitwise_rle_encode(flattened)\n",
    "    \n",
    "    save_encoded(image_path+\"_paper2_encodes.pkl\",encoded)\n",
    "    \n",
    "    compressed_size = sum(len(enc) for enc in encoded) * 2  # Each (value, count) pair\n",
    "    compression_ratio = (compressed_size / original_size) * 100\n",
    "    space_saving = 100 - compression_ratio\n",
    "    compression_time = (time.time() - start_time) * 1000  # Convert to milliseconds\n",
    "    \n",
    "    return original_size, compressed_size, compression_ratio, space_saving, compression_time\n"
   ]
  },
  {
   "cell_type": "code",
   "execution_count": 24,
   "id": "ff3f3a8d",
   "metadata": {},
   "outputs": [],
   "source": [
    "def evaluate_bitwise_images(image_paths, modes=['bw', 'grayscale', 'rgb']):\n",
    "    results = []\n",
    "    for i in range(len(image_paths)):\n",
    "        image_path=image_paths[i]\n",
    "        mode=modes[i//2]\n",
    "        orig_size, comp_size, comp_ratio, space_save, comp_time = image_to_bitwise_rle(image_path, mode)\n",
    "        results.append([image_path, mode, orig_size, comp_size, comp_ratio, space_save, comp_time])\n",
    "    \n",
    "    df = pd.DataFrame(results, columns=['Image', 'Mode', 'Original Size', 'Compressed Size', 'Compression Ratio (%)', 'Space Saving (%)', 'Compression Time (ms)'])\n",
    "    return df"
   ]
  },
  {
   "cell_type": "code",
   "execution_count": null,
   "id": "527f1a32",
   "metadata": {},
   "outputs": [],
   "source": [
    "if __name__ == \"__main__\":\n",
    "    image_paths = ['./data/b&w1_mod.png',\n",
    "              './data/b&w2_mod.png',\n",
    "              './data/gray1_mod.png',\n",
    "              './data/gray2_mod.png',\n",
    "              './data/rgb1_mod.png',\n",
    "              './data/rgb2_mod.png']\n",
    "    df_results = evaluate_bitwise_images(image_paths)\n",
    "    print(df_results)"
   ]
  },
  {
   "cell_type": "code",
   "execution_count": null,
   "id": "93cdc4d6",
   "metadata": {},
   "outputs": [],
   "source": []
  }
 ],
 "metadata": {
  "kernelspec": {
   "display_name": "Python 3 (ipykernel)",
   "language": "python",
   "name": "python3"
  },
  "language_info": {
   "codemirror_mode": {
    "name": "ipython",
    "version": 3
   },
   "file_extension": ".py",
   "mimetype": "text/x-python",
   "name": "python",
   "nbconvert_exporter": "python",
   "pygments_lexer": "ipython3",
   "version": "3.10.7"
  }
 },
 "nbformat": 4,
 "nbformat_minor": 5
}
