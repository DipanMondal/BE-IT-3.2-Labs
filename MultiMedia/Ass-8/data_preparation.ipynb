{
 "cells": [
  {
   "cell_type": "code",
   "execution_count": 5,
   "id": "e0dc3edc",
   "metadata": {},
   "outputs": [],
   "source": [
    "import cv2"
   ]
  },
  {
   "cell_type": "markdown",
   "id": "1f7f9d07",
   "metadata": {},
   "source": [
    "### Black & White data generation"
   ]
  },
  {
   "cell_type": "code",
   "execution_count": 2,
   "id": "1735fdc2",
   "metadata": {},
   "outputs": [],
   "source": [
    "def convert_and_resize(image_name,width,height,output_name):\n",
    "    image = cv2.imread(image_name, cv2.IMREAD_GRAYSCALE)\n",
    "    if image is None:\n",
    "        print(\"Error: Image not found or unable to read!\")\n",
    "        return\n",
    "\n",
    "    _, bw_image = cv2.threshold(image, 127, 255, cv2.THRESH_BINARY)\n",
    "    \n",
    "    # Resize the image\n",
    "    resized_image = cv2.resize(bw_image, (width, height), interpolation=cv2.INTER_AREA)\n",
    "    \n",
    "    # Save the new image\n",
    "    cv2.imwrite(output_name, resized_image)\n",
    "    print(f\"Black and white resized image saved as {output_name}\")"
   ]
  },
  {
   "cell_type": "code",
   "execution_count": 3,
   "id": "cfd0e14d",
   "metadata": {},
   "outputs": [],
   "source": [
    "image_name = \"./data/b&w1.png\"\n",
    "output_name = \"./data/b&w1_mod.png\"\n",
    "width=50\n",
    "height=50"
   ]
  },
  {
   "cell_type": "code",
   "execution_count": 6,
   "id": "611604e9",
   "metadata": {},
   "outputs": [
    {
     "name": "stdout",
     "output_type": "stream",
     "text": [
      "Black and white resized image saved as ./data/b&w1_mod.png\n"
     ]
    }
   ],
   "source": [
    "convert_and_resize(image_name,width,height,output_name)"
   ]
  },
  {
   "cell_type": "code",
   "execution_count": 7,
   "id": "70b32a0a",
   "metadata": {},
   "outputs": [],
   "source": [
    "image_name = \"./data/b&w2.png\"\n",
    "output_name = \"./data/b&w2_mod.png\"\n",
    "width=100\n",
    "height=100"
   ]
  },
  {
   "cell_type": "code",
   "execution_count": 8,
   "id": "2c4ffe72",
   "metadata": {},
   "outputs": [
    {
     "name": "stdout",
     "output_type": "stream",
     "text": [
      "Black and white resized image saved as ./data/b&w2_mod.png\n"
     ]
    }
   ],
   "source": [
    "convert_and_resize(image_name,width,height,output_name)"
   ]
  },
  {
   "cell_type": "markdown",
   "id": "1fa7ef32",
   "metadata": {},
   "source": [
    "### grayscale image process"
   ]
  },
  {
   "cell_type": "code",
   "execution_count": 9,
   "id": "17d4092b",
   "metadata": {},
   "outputs": [],
   "source": [
    "def grayscale_image_process(input_name, width, height, output_name):\n",
    "    image = cv2.imread(input_name, cv2.IMREAD_GRAYSCALE)\n",
    "    if image is None:\n",
    "        print(\"Error: Image not found or unable to read!\")\n",
    "        return\n",
    "\n",
    "    resized_image = cv2.resize(image, (width, height), interpolation=cv2.INTER_AREA)\n",
    "\n",
    "    cv2.imwrite(output_name, resized_image)\n",
    "    print(f\"Resized grayscale image saved as {output_name}\")"
   ]
  },
  {
   "cell_type": "code",
   "execution_count": 10,
   "id": "fcd8d236",
   "metadata": {},
   "outputs": [],
   "source": [
    "image_name = \"./data/gray1.png\"\n",
    "output_name = \"./data/gray1_mod.png\"\n",
    "width=200\n",
    "height=200"
   ]
  },
  {
   "cell_type": "code",
   "execution_count": 11,
   "id": "cd4a233a",
   "metadata": {},
   "outputs": [
    {
     "name": "stdout",
     "output_type": "stream",
     "text": [
      "Resized grayscale image saved as ./data/gray1_mod.png\n"
     ]
    }
   ],
   "source": [
    "grayscale_image_process(image_name,width,height,output_name)"
   ]
  },
  {
   "cell_type": "code",
   "execution_count": 13,
   "id": "29e3f341",
   "metadata": {},
   "outputs": [],
   "source": [
    "image_name = \"./data/gray2.png\"\n",
    "output_name = \"./data/gray2_mod.png\"\n",
    "width=300\n",
    "height=300"
   ]
  },
  {
   "cell_type": "code",
   "execution_count": 14,
   "id": "767bb987",
   "metadata": {},
   "outputs": [
    {
     "name": "stdout",
     "output_type": "stream",
     "text": [
      "Resized grayscale image saved as ./data/gray2_mod.png\n"
     ]
    }
   ],
   "source": [
    "grayscale_image_process(image_name,width,height,output_name)"
   ]
  },
  {
   "cell_type": "markdown",
   "id": "6d16b970",
   "metadata": {},
   "source": [
    "### rgb image process"
   ]
  },
  {
   "cell_type": "code",
   "execution_count": 12,
   "id": "72a75e76",
   "metadata": {},
   "outputs": [],
   "source": [
    "def rgb_image_process(input_name, width, height, output_name):\n",
    "    image = cv2.imread(input_name, cv2.IMREAD_COLOR)\n",
    "    if image is None:\n",
    "        print(\"Error: Image not found or unable to read!\")\n",
    "        return\n",
    "\n",
    "    resized_image = cv2.resize(image, (width, height), interpolation=cv2.INTER_AREA)\n",
    "\n",
    "    cv2.imwrite(output_name, resized_image)\n",
    "    print(f\"Resized RGB image saved as {output_name}\")"
   ]
  },
  {
   "cell_type": "code",
   "execution_count": 15,
   "id": "2b4e7f88",
   "metadata": {},
   "outputs": [],
   "source": [
    "image_name = \"./data/rgb1.png\"\n",
    "output_name = \"./data/rgb1_mod.png\"\n",
    "width=400\n",
    "height=400"
   ]
  },
  {
   "cell_type": "code",
   "execution_count": 16,
   "id": "a3b2a1c1",
   "metadata": {},
   "outputs": [
    {
     "name": "stdout",
     "output_type": "stream",
     "text": [
      "Resized RGB image saved as ./data/rgb1_mod.png\n"
     ]
    }
   ],
   "source": [
    "rgb_image_process(image_name,width,height,output_name)"
   ]
  },
  {
   "cell_type": "code",
   "execution_count": 17,
   "id": "b7a4ac59",
   "metadata": {},
   "outputs": [],
   "source": [
    "image_name = \"./data/rgb2.png\"\n",
    "output_name = \"./data/rgb2_mod.png\"\n",
    "width=500\n",
    "height=500"
   ]
  },
  {
   "cell_type": "code",
   "execution_count": 18,
   "id": "da451827",
   "metadata": {},
   "outputs": [
    {
     "name": "stdout",
     "output_type": "stream",
     "text": [
      "Resized RGB image saved as ./data/rgb2_mod.png\n"
     ]
    }
   ],
   "source": [
    "rgb_image_process(image_name,width,height,output_name)"
   ]
  },
  {
   "cell_type": "code",
   "execution_count": null,
   "id": "eca44abd",
   "metadata": {},
   "outputs": [],
   "source": []
  }
 ],
 "metadata": {
  "kernelspec": {
   "display_name": "Python 3 (ipykernel)",
   "language": "python",
   "name": "python3"
  },
  "language_info": {
   "codemirror_mode": {
    "name": "ipython",
    "version": 3
   },
   "file_extension": ".py",
   "mimetype": "text/x-python",
   "name": "python",
   "nbconvert_exporter": "python",
   "pygments_lexer": "ipython3",
   "version": "3.10.7"
  }
 },
 "nbformat": 4,
 "nbformat_minor": 5
}
